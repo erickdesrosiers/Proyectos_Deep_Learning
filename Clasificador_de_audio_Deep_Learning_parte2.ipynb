{
 "cells": [
  {
   "cell_type": "code",
   "id": "initial_id",
   "metadata": {
    "collapsed": true,
    "ExecuteTime": {
     "end_time": "2025-09-16T21:36:04.354196Z",
     "start_time": "2025-09-16T21:36:04.345334Z"
    }
   },
   "source": "print(\"oioioioioioi\")",
   "outputs": [
    {
     "name": "stdout",
     "output_type": "stream",
     "text": [
      "oioioioioioi\n"
     ]
    }
   ],
   "execution_count": 2
  },
  {
   "metadata": {},
   "cell_type": "code",
   "outputs": [],
   "execution_count": null,
   "source": "",
   "id": "d1b30a625b31f4db"
  }
 ],
 "metadata": {
  "kernelspec": {
   "display_name": "Python 3",
   "language": "python",
   "name": "python3"
  },
  "language_info": {
   "codemirror_mode": {
    "name": "ipython",
    "version": 2
   },
   "file_extension": ".py",
   "mimetype": "text/x-python",
   "name": "python",
   "nbconvert_exporter": "python",
   "pygments_lexer": "ipython2",
   "version": "2.7.6"
  }
 },
 "nbformat": 4,
 "nbformat_minor": 5
}
