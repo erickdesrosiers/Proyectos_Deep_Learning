{
 "cells": [
  {
   "cell_type": "markdown",
   "source": [
    "# Clasificador de Bandas usando Redes Neuronales\n",
    "\n",
    "El propósito de este mini proyecto es crear una variante del código music-genre-classificator para construir una red neuronal capaz de clasificar canciones de tres grupos que, en esencia, pertenecen al mismo género: el pop-punk. Las bandas de las cuales se tomarán las muestras son Neck Deep, The Story So Far y Turnstile. Ya existen modelos que clasifican correctamente los géneros musicales, pero este proyecto va más allá, al intentar predecir casos muy particulares dentro de un mismo género. Veamos si el modelo es capaz de lograrlo."
   ],
   "metadata": {
    "collapsed": false
   },
   "id": "29287e5a7d0a4c9b"
  },
  {
   "cell_type": "markdown",
   "source": [
    "## 1. Obtención y preparación de datos"
   ],
   "metadata": {
    "collapsed": false
   },
   "id": "99b1619754b66262"
  },
  {
   "cell_type": "code",
   "outputs": [
    {
     "name": "stdout",
     "output_type": "stream",
     "text": [
      "Defaulting to user installation because normal site-packages is not writeable\r\n",
      "Requirement already satisfied: librosa in /Users/erickavendanogarcia/Library/Python/3.9/lib/python/site-packages (0.11.0)\r\n",
      "Requirement already satisfied: scipy>=1.6.0 in /Users/erickavendanogarcia/Library/Python/3.9/lib/python/site-packages (from librosa) (1.13.0)\r\n",
      "Requirement already satisfied: numpy>=1.22.3 in /Users/erickavendanogarcia/Library/Python/3.9/lib/python/site-packages (from librosa) (1.26.4)\r\n",
      "Requirement already satisfied: numba>=0.51.0 in /Users/erickavendanogarcia/Library/Python/3.9/lib/python/site-packages (from librosa) (0.60.0)\r\n",
      "Requirement already satisfied: joblib>=1.0 in /Users/erickavendanogarcia/Library/Python/3.9/lib/python/site-packages (from librosa) (1.4.0)\r\n",
      "Requirement already satisfied: soundfile>=0.12.1 in /Users/erickavendanogarcia/Library/Python/3.9/lib/python/site-packages (from librosa) (0.13.1)\r\n",
      "Requirement already satisfied: audioread>=2.1.9 in /Users/erickavendanogarcia/Library/Python/3.9/lib/python/site-packages (from librosa) (3.0.1)\r\n",
      "Requirement already satisfied: lazy_loader>=0.1 in /Users/erickavendanogarcia/Library/Python/3.9/lib/python/site-packages (from librosa) (0.4)\r\n",
      "Requirement already satisfied: pooch>=1.1 in /Users/erickavendanogarcia/Library/Python/3.9/lib/python/site-packages (from librosa) (1.8.2)\r\n",
      "Requirement already satisfied: typing_extensions>=4.1.1 in /Users/erickavendanogarcia/Library/Python/3.9/lib/python/site-packages (from librosa) (4.10.0)\r\n",
      "Requirement already satisfied: scikit-learn>=1.1.0 in /Users/erickavendanogarcia/Library/Python/3.9/lib/python/site-packages (from librosa) (1.4.1.post1)\r\n",
      "Requirement already satisfied: msgpack>=1.0 in /Users/erickavendanogarcia/Library/Python/3.9/lib/python/site-packages (from librosa) (1.1.1)\r\n",
      "Requirement already satisfied: soxr>=0.3.2 in /Users/erickavendanogarcia/Library/Python/3.9/lib/python/site-packages (from librosa) (0.5.0.post1)\r\n",
      "Requirement already satisfied: decorator>=4.3.0 in /Users/erickavendanogarcia/Library/Python/3.9/lib/python/site-packages (from librosa) (5.1.1)\r\n",
      "Requirement already satisfied: packaging in /Users/erickavendanogarcia/Library/Python/3.9/lib/python/site-packages (from lazy_loader>=0.1->librosa) (24.0)\r\n",
      "Requirement already satisfied: llvmlite<0.44,>=0.43.0dev0 in /Users/erickavendanogarcia/Library/Python/3.9/lib/python/site-packages (from numba>=0.51.0->librosa) (0.43.0)\r\n",
      "Requirement already satisfied: platformdirs>=2.5.0 in /Users/erickavendanogarcia/Library/Python/3.9/lib/python/site-packages (from pooch>=1.1->librosa) (4.2.0)\r\n",
      "Requirement already satisfied: requests>=2.19.0 in /Library/Python/3.9/site-packages (from pooch>=1.1->librosa) (2.32.3)\r\n",
      "Requirement already satisfied: charset-normalizer<4,>=2 in /Library/Python/3.9/site-packages (from requests>=2.19.0->pooch>=1.1->librosa) (3.3.2)\r\n",
      "Requirement already satisfied: urllib3<3,>=1.21.1 in /Library/Python/3.9/site-packages (from requests>=2.19.0->pooch>=1.1->librosa) (2.2.3)\r\n",
      "Requirement already satisfied: idna<4,>=2.5 in /Library/Python/3.9/site-packages (from requests>=2.19.0->pooch>=1.1->librosa) (3.10)\r\n",
      "Requirement already satisfied: certifi>=2017.4.17 in /Library/Python/3.9/site-packages (from requests>=2.19.0->pooch>=1.1->librosa) (2024.8.30)\r\n",
      "Requirement already satisfied: threadpoolctl>=2.0.0 in /Users/erickavendanogarcia/Library/Python/3.9/lib/python/site-packages (from scikit-learn>=1.1.0->librosa) (3.4.0)\r\n",
      "Requirement already satisfied: cffi>=1.0 in /Library/Python/3.9/site-packages (from soundfile>=0.12.1->librosa) (1.17.1)\r\n",
      "Requirement already satisfied: pycparser in /Library/Python/3.9/site-packages (from cffi>=1.0->soundfile>=0.12.1->librosa) (2.22)\r\n",
      "\u001B[33mWARNING: You are using pip version 21.2.4; however, version 25.1.1 is available.\r\n",
      "You should consider upgrading via the '/Library/Developer/CommandLineTools/usr/bin/python3 -m pip install --upgrade pip' command.\u001B[0m\r\n",
      "Note: you may need to restart the kernel to use updated packages.\n"
     ]
    }
   ],
   "source": [
    "pip install librosa"
   ],
   "metadata": {
    "collapsed": false,
    "ExecuteTime": {
     "end_time": "2025-06-29T23:25:29.799686Z",
     "start_time": "2025-06-29T23:25:28.179764Z"
    }
   },
   "id": "1cadd40bf62aa787",
   "execution_count": 1
  },
  {
   "cell_type": "code",
   "outputs": [
    {
     "name": "stderr",
     "output_type": "stream",
     "text": [
      "/Library/Python/3.9/site-packages/urllib3/__init__.py:35: NotOpenSSLWarning: urllib3 v2 only supports OpenSSL 1.1.1+, currently the 'ssl' module is compiled with 'LibreSSL 2.8.3'. See: https://github.com/urllib3/urllib3/issues/3020\n",
      "  warnings.warn(\n"
     ]
    }
   ],
   "source": [
    "import os\n",
    "import numpy as np\n",
    "import librosa\n",
    "import librosa.display\n",
    "import matplotlib.pyplot as plt\n",
    "import tensorflow as tf\n",
    "from tensorflow import keras\n",
    "from tensorflow.keras import layers, models\n",
    "from sklearn.model_selection import train_test_split\n",
    "from sklearn.metrics import confusion_matrix, ConfusionMatrixDisplay\n",
    "\n",
    "# ========================\n",
    "# DATA AUGMENTATION HELPERS\n",
    "# ========================\n",
    "\n",
    "def add_noise(y, noise_factor=0.005):\n",
    "    noise = np.random.randn(len(y))\n",
    "    return y + noise_factor * noise\n",
    "\n",
    "def change_pitch(y, sr=22050, n_steps=2):\n",
    "    return librosa.effects.pitch_shift(y, sr=sr, n_steps=n_steps)\n",
    "\n",
    "def change_speed(y, speed_factor=1.0):\n",
    "    return librosa.effects.time_stretch(y, speed_factor)\n",
    "\n",
    "def shift_audio(y, shift_max=22050):\n",
    "    shift = np.random.randint(-shift_max, shift_max)\n",
    "    return np.roll(y, shift)\n"
   ],
   "metadata": {
    "collapsed": true,
    "ExecuteTime": {
     "end_time": "2025-06-29T23:25:33.290542Z",
     "start_time": "2025-06-29T23:25:29.801576Z"
    }
   },
   "id": "initial_id",
   "execution_count": 2
  },
  {
   "cell_type": "code",
   "outputs": [
    {
     "name": "stdout",
     "output_type": "stream",
     "text": [
      "Forma de X: (210, 40, 130)\n",
      "Forma de y: (210,)\n"
     ]
    }
   ],
   "source": [
    "def load_audio(path, sr=22050, duration=30):\n",
    "    y, _ = librosa.load(path, sr=sr, duration=duration)\n",
    "    if len(y) < sr * duration:\n",
    "        y = np.pad(y, (0, sr * duration - len(y)))\n",
    "    return y\n",
    "\n",
    "def extract_mfcc(y, sr=22050, n_mfcc=40, fixed_length=130):\n",
    "    mfcc = librosa.feature.mfcc(y=y, sr=sr, n_mfcc=n_mfcc)\n",
    "    if mfcc.shape[1] < fixed_length:\n",
    "        pad_width = fixed_length - mfcc.shape[1]\n",
    "        mfcc = np.pad(mfcc, ((0, 0), (0, pad_width)), mode='constant')\n",
    "    else:\n",
    "        mfcc = mfcc[:, :fixed_length]\n",
    "    return mfcc\n",
    "\n",
    "\n",
    "label_map = {'turnstile': 0, 'tssf': 1, 'neckdeep': 2}\n",
    "base_path = '/Users/erickavendanogarcia/Desktop/ML_physics/dataset'\n",
    "\n",
    "X, y = [], []\n",
    "\n",
    "for band_name, label in label_map.items():\n",
    "    band_path = os.path.join(base_path, band_name)\n",
    "    for file in os.listdir(band_path):\n",
    "        if file.endswith('.mp3'):\n",
    "            file_path = os.path.join(band_path, file)\n",
    "            try:\n",
    "                audio = load_audio(file_path)\n",
    "                mfcc = extract_mfcc(audio)\n",
    "                X.append(mfcc)\n",
    "                y.append(label)\n",
    "\n",
    "                # AUGMENTED VARIANTS\n",
    "                for _ in range(2):  # do augmentation twice for more samples\n",
    "                    aug_audio = audio\n",
    "                    if np.random.rand() < 0.5:\n",
    "                        aug_audio = add_noise(aug_audio, noise_factor=np.random.uniform(0.002, 0.01))\n",
    "                    if np.random.rand() < 0.5:\n",
    "                        aug_audio = change_pitch(aug_audio, sr=22050, n_steps=np.random.uniform(-2, 2))\n",
    "                    if np.random.rand() < 0.5:\n",
    "                        speed_factor = np.random.uniform(0.9, 1.1)\n",
    "                        try:\n",
    "                            aug_audio = change_speed(aug_audio, speed_factor)\n",
    "                        except:\n",
    "                            pass\n",
    "                    if np.random.rand() < 0.5:\n",
    "                        aug_audio = shift_audio(aug_audio, shift_max=22050)\n",
    "\n",
    "                    mfcc_aug = extract_mfcc(aug_audio)\n",
    "                    X.append(mfcc_aug)\n",
    "                    y.append(label)\n",
    "\n",
    "            except Exception as e:\n",
    "                print(f\"Error con {file_path}: {e}\")\n",
    "\n",
    "X = np.array(X)\n",
    "y = np.array(y)\n",
    "\n",
    "print(\"Forma de X:\", X.shape)\n",
    "print(\"Forma de y:\", y.shape)\n"
   ],
   "metadata": {
    "collapsed": false,
    "ExecuteTime": {
     "end_time": "2025-06-29T23:25:58.787206Z",
     "start_time": "2025-06-29T23:25:33.292118Z"
    }
   },
   "id": "c659415e5386e8f9",
   "execution_count": 3
  },
  {
   "cell_type": "code",
   "outputs": [
    {
     "name": "stdout",
     "output_type": "stream",
     "text": [
      "X normalizado: (210, 40, 130, 1)\n"
     ]
    }
   ],
   "source": [
    "# Add channel dimension\n",
    "X = X[..., np.newaxis]\n",
    "\n",
    "# Normalización\n",
    "mean = np.mean(X, axis=(1,2,3), keepdims=True)\n",
    "std = np.std(X, axis=(1,2,3), keepdims=True)\n",
    "X = (X - mean) / (std + 1e-6)\n",
    "\n",
    "print(\"X normalizado:\", X.shape)"
   ],
   "metadata": {
    "collapsed": false,
    "ExecuteTime": {
     "end_time": "2025-06-29T23:25:58.817409Z",
     "start_time": "2025-06-29T23:25:58.793049Z"
    }
   },
   "id": "bbe1480bddfa90db",
   "execution_count": 4
  },
  {
   "cell_type": "markdown",
   "source": [
    "Explicación de las funciones: $\\textit{def load_audio(path, sr=22050, duration=30)}$\n",
    "Carga un archivo de audio desde el path usando librosa.\n",
    "\n",
    "sr=22050: establece la frecuencia de muestreo (samples per second).\n",
    "\n",
    "duration=30: sólo carga los primeros 30 segundos del audio.\n",
    "\n",
    "Si el audio dura menos de 30 segundos, lo rellena con ceros (np.pad) hasta que tenga el tamaño adecuado (sr * duration).\n",
    "\n",
    "Devuelve un arreglo y con las muestras de audio."
   ],
   "metadata": {
    "collapsed": false
   },
   "id": "1b1987fa521b7408"
  },
  {
   "cell_type": "markdown",
   "source": [
    "Función extract_mfcc(y, sr=22050, n_mfcc=40)\n",
    "Calcula 40 coeficientes MFCC a partir del audio y.\n",
    "\n",
    "mfcc tiene forma (n_mfcc, tiempo), pero el código toma el promedio a lo largo del tiempo (axis=1), para dejar un solo vector de tamaño (n_mfcc,) por canción.\n",
    "\n",
    "Esto permite representar cada canción por un vector de características fijo, sin importar su duración real (porque ya se paddeó a 30s antes)."
   ],
   "metadata": {
    "collapsed": false
   },
   "id": "f1f5b5e62f730b62"
  },
  {
   "cell_type": "markdown",
   "source": [
    "## 2. Datos de prueba y de entrenamiento "
   ],
   "metadata": {
    "collapsed": false
   },
   "id": "686f4f0f80234ba8"
  },
  {
   "cell_type": "code",
   "outputs": [
    {
     "name": "stdout",
     "output_type": "stream",
     "text": [
      "Train: (147, 40, 130, 1) (147,)\n",
      "Test: (63, 40, 130, 1) (63,)\n"
     ]
    }
   ],
   "source": [
    "from sklearn.model_selection import train_test_split\n",
    "from sklearn.preprocessing import StandardScaler\n",
    "\n",
    "# División en entrenamiento y prueba, aleatoria en cada corrida\n",
    "X_train, X_test, y_train, y_test = train_test_split(\n",
    "    X, y, test_size=0.3, stratify=y, random_state=42\n",
    ")\n",
    "\n",
    "print(\"Train:\", X_train.shape, y_train.shape)\n",
    "print(\"Test:\", X_test.shape, y_test.shape)\n",
    "\n"
   ],
   "metadata": {
    "collapsed": false,
    "ExecuteTime": {
     "end_time": "2025-06-29T23:25:58.850316Z",
     "start_time": "2025-06-29T23:25:58.819235Z"
    }
   },
   "id": "8c19a33f252d1649",
   "execution_count": 5
  },
  {
   "cell_type": "markdown",
   "source": [
    "# 3. Construcción del modelo "
   ],
   "metadata": {
    "collapsed": false
   },
   "id": "7f17a36500d093da"
  },
  {
   "cell_type": "code",
   "outputs": [],
   "source": [
    "import tensorflow as tf\n",
    "from tensorflow import keras\n",
    "from tensorflow.keras import layers, models, optimizers, losses, regularizers\n",
    "from sklearn.model_selection import train_test_split\n",
    "from sklearn.preprocessing import normalize\n",
    "from tensorflow.keras.layers import AveragePooling2D, Conv2D, Dense, Dropout, Flatten,MaxPooling2D\n",
    "from tensorflow.keras.models import Sequential"
   ],
   "metadata": {
    "collapsed": false,
    "ExecuteTime": {
     "end_time": "2025-06-29T23:25:58.867123Z",
     "start_time": "2025-06-29T23:25:58.853896Z"
    }
   },
   "id": "1a689f6fb3d8575c",
   "execution_count": 6
  },
  {
   "cell_type": "code",
   "outputs": [
    {
     "name": "stderr",
     "output_type": "stream",
     "text": [
      "/Library/Python/3.9/site-packages/keras/src/layers/convolutional/base_conv.py:107: UserWarning: Do not pass an `input_shape`/`input_dim` argument to a layer. When using Sequential models, prefer using an `Input(shape)` object as the first layer in the model instead.\n",
      "  super().__init__(activity_regularizer=activity_regularizer, **kwargs)\n"
     ]
    },
    {
     "data": {
      "text/plain": "\u001B[1mModel: \"sequential\"\u001B[0m\n",
      "text/html": "<pre style=\"white-space:pre;overflow-x:auto;line-height:normal;font-family:Menlo,'DejaVu Sans Mono',consolas,'Courier New',monospace\"><span style=\"font-weight: bold\">Model: \"sequential\"</span>\n</pre>\n"
     },
     "metadata": {},
     "output_type": "display_data"
    },
    {
     "data": {
      "text/plain": "┏━━━━━━━━━━━━━━━━━━━━━━━━━━━━━━━━━┳━━━━━━━━━━━━━━━━━━━━━━━━┳━━━━━━━━━━━━━━━┓\n┃\u001B[1m \u001B[0m\u001B[1mLayer (type)                   \u001B[0m\u001B[1m \u001B[0m┃\u001B[1m \u001B[0m\u001B[1mOutput Shape          \u001B[0m\u001B[1m \u001B[0m┃\u001B[1m \u001B[0m\u001B[1m      Param #\u001B[0m\u001B[1m \u001B[0m┃\n┡━━━━━━━━━━━━━━━━━━━━━━━━━━━━━━━━━╇━━━━━━━━━━━━━━━━━━━━━━━━╇━━━━━━━━━━━━━━━┩\n│ conv2d (\u001B[38;5;33mConv2D\u001B[0m)                 │ (\u001B[38;5;45mNone\u001B[0m, \u001B[38;5;34m38\u001B[0m, \u001B[38;5;34m128\u001B[0m, \u001B[38;5;34m32\u001B[0m)    │           \u001B[38;5;34m320\u001B[0m │\n├─────────────────────────────────┼────────────────────────┼───────────────┤\n│ max_pooling2d (\u001B[38;5;33mMaxPooling2D\u001B[0m)    │ (\u001B[38;5;45mNone\u001B[0m, \u001B[38;5;34m19\u001B[0m, \u001B[38;5;34m64\u001B[0m, \u001B[38;5;34m32\u001B[0m)     │             \u001B[38;5;34m0\u001B[0m │\n├─────────────────────────────────┼────────────────────────┼───────────────┤\n│ dropout (\u001B[38;5;33mDropout\u001B[0m)               │ (\u001B[38;5;45mNone\u001B[0m, \u001B[38;5;34m19\u001B[0m, \u001B[38;5;34m64\u001B[0m, \u001B[38;5;34m32\u001B[0m)     │             \u001B[38;5;34m0\u001B[0m │\n├─────────────────────────────────┼────────────────────────┼───────────────┤\n│ conv2d_1 (\u001B[38;5;33mConv2D\u001B[0m)               │ (\u001B[38;5;45mNone\u001B[0m, \u001B[38;5;34m17\u001B[0m, \u001B[38;5;34m62\u001B[0m, \u001B[38;5;34m64\u001B[0m)     │        \u001B[38;5;34m18,496\u001B[0m │\n├─────────────────────────────────┼────────────────────────┼───────────────┤\n│ max_pooling2d_1 (\u001B[38;5;33mMaxPooling2D\u001B[0m)  │ (\u001B[38;5;45mNone\u001B[0m, \u001B[38;5;34m8\u001B[0m, \u001B[38;5;34m31\u001B[0m, \u001B[38;5;34m64\u001B[0m)      │             \u001B[38;5;34m0\u001B[0m │\n├─────────────────────────────────┼────────────────────────┼───────────────┤\n│ dropout_1 (\u001B[38;5;33mDropout\u001B[0m)             │ (\u001B[38;5;45mNone\u001B[0m, \u001B[38;5;34m8\u001B[0m, \u001B[38;5;34m31\u001B[0m, \u001B[38;5;34m64\u001B[0m)      │             \u001B[38;5;34m0\u001B[0m │\n├─────────────────────────────────┼────────────────────────┼───────────────┤\n│ conv2d_2 (\u001B[38;5;33mConv2D\u001B[0m)               │ (\u001B[38;5;45mNone\u001B[0m, \u001B[38;5;34m6\u001B[0m, \u001B[38;5;34m29\u001B[0m, \u001B[38;5;34m128\u001B[0m)     │        \u001B[38;5;34m73,856\u001B[0m │\n├─────────────────────────────────┼────────────────────────┼───────────────┤\n│ max_pooling2d_2 (\u001B[38;5;33mMaxPooling2D\u001B[0m)  │ (\u001B[38;5;45mNone\u001B[0m, \u001B[38;5;34m3\u001B[0m, \u001B[38;5;34m14\u001B[0m, \u001B[38;5;34m128\u001B[0m)     │             \u001B[38;5;34m0\u001B[0m │\n├─────────────────────────────────┼────────────────────────┼───────────────┤\n│ dropout_2 (\u001B[38;5;33mDropout\u001B[0m)             │ (\u001B[38;5;45mNone\u001B[0m, \u001B[38;5;34m3\u001B[0m, \u001B[38;5;34m14\u001B[0m, \u001B[38;5;34m128\u001B[0m)     │             \u001B[38;5;34m0\u001B[0m │\n├─────────────────────────────────┼────────────────────────┼───────────────┤\n│ flatten (\u001B[38;5;33mFlatten\u001B[0m)               │ (\u001B[38;5;45mNone\u001B[0m, \u001B[38;5;34m5376\u001B[0m)           │             \u001B[38;5;34m0\u001B[0m │\n├─────────────────────────────────┼────────────────────────┼───────────────┤\n│ dense (\u001B[38;5;33mDense\u001B[0m)                   │ (\u001B[38;5;45mNone\u001B[0m, \u001B[38;5;34m128\u001B[0m)            │       \u001B[38;5;34m688,256\u001B[0m │\n├─────────────────────────────────┼────────────────────────┼───────────────┤\n│ dropout_3 (\u001B[38;5;33mDropout\u001B[0m)             │ (\u001B[38;5;45mNone\u001B[0m, \u001B[38;5;34m128\u001B[0m)            │             \u001B[38;5;34m0\u001B[0m │\n├─────────────────────────────────┼────────────────────────┼───────────────┤\n│ dense_1 (\u001B[38;5;33mDense\u001B[0m)                 │ (\u001B[38;5;45mNone\u001B[0m, \u001B[38;5;34m3\u001B[0m)              │           \u001B[38;5;34m387\u001B[0m │\n└─────────────────────────────────┴────────────────────────┴───────────────┘\n",
      "text/html": "<pre style=\"white-space:pre;overflow-x:auto;line-height:normal;font-family:Menlo,'DejaVu Sans Mono',consolas,'Courier New',monospace\">┏━━━━━━━━━━━━━━━━━━━━━━━━━━━━━━━━━┳━━━━━━━━━━━━━━━━━━━━━━━━┳━━━━━━━━━━━━━━━┓\n┃<span style=\"font-weight: bold\"> Layer (type)                    </span>┃<span style=\"font-weight: bold\"> Output Shape           </span>┃<span style=\"font-weight: bold\">       Param # </span>┃\n┡━━━━━━━━━━━━━━━━━━━━━━━━━━━━━━━━━╇━━━━━━━━━━━━━━━━━━━━━━━━╇━━━━━━━━━━━━━━━┩\n│ conv2d (<span style=\"color: #0087ff; text-decoration-color: #0087ff\">Conv2D</span>)                 │ (<span style=\"color: #00d7ff; text-decoration-color: #00d7ff\">None</span>, <span style=\"color: #00af00; text-decoration-color: #00af00\">38</span>, <span style=\"color: #00af00; text-decoration-color: #00af00\">128</span>, <span style=\"color: #00af00; text-decoration-color: #00af00\">32</span>)    │           <span style=\"color: #00af00; text-decoration-color: #00af00\">320</span> │\n├─────────────────────────────────┼────────────────────────┼───────────────┤\n│ max_pooling2d (<span style=\"color: #0087ff; text-decoration-color: #0087ff\">MaxPooling2D</span>)    │ (<span style=\"color: #00d7ff; text-decoration-color: #00d7ff\">None</span>, <span style=\"color: #00af00; text-decoration-color: #00af00\">19</span>, <span style=\"color: #00af00; text-decoration-color: #00af00\">64</span>, <span style=\"color: #00af00; text-decoration-color: #00af00\">32</span>)     │             <span style=\"color: #00af00; text-decoration-color: #00af00\">0</span> │\n├─────────────────────────────────┼────────────────────────┼───────────────┤\n│ dropout (<span style=\"color: #0087ff; text-decoration-color: #0087ff\">Dropout</span>)               │ (<span style=\"color: #00d7ff; text-decoration-color: #00d7ff\">None</span>, <span style=\"color: #00af00; text-decoration-color: #00af00\">19</span>, <span style=\"color: #00af00; text-decoration-color: #00af00\">64</span>, <span style=\"color: #00af00; text-decoration-color: #00af00\">32</span>)     │             <span style=\"color: #00af00; text-decoration-color: #00af00\">0</span> │\n├─────────────────────────────────┼────────────────────────┼───────────────┤\n│ conv2d_1 (<span style=\"color: #0087ff; text-decoration-color: #0087ff\">Conv2D</span>)               │ (<span style=\"color: #00d7ff; text-decoration-color: #00d7ff\">None</span>, <span style=\"color: #00af00; text-decoration-color: #00af00\">17</span>, <span style=\"color: #00af00; text-decoration-color: #00af00\">62</span>, <span style=\"color: #00af00; text-decoration-color: #00af00\">64</span>)     │        <span style=\"color: #00af00; text-decoration-color: #00af00\">18,496</span> │\n├─────────────────────────────────┼────────────────────────┼───────────────┤\n│ max_pooling2d_1 (<span style=\"color: #0087ff; text-decoration-color: #0087ff\">MaxPooling2D</span>)  │ (<span style=\"color: #00d7ff; text-decoration-color: #00d7ff\">None</span>, <span style=\"color: #00af00; text-decoration-color: #00af00\">8</span>, <span style=\"color: #00af00; text-decoration-color: #00af00\">31</span>, <span style=\"color: #00af00; text-decoration-color: #00af00\">64</span>)      │             <span style=\"color: #00af00; text-decoration-color: #00af00\">0</span> │\n├─────────────────────────────────┼────────────────────────┼───────────────┤\n│ dropout_1 (<span style=\"color: #0087ff; text-decoration-color: #0087ff\">Dropout</span>)             │ (<span style=\"color: #00d7ff; text-decoration-color: #00d7ff\">None</span>, <span style=\"color: #00af00; text-decoration-color: #00af00\">8</span>, <span style=\"color: #00af00; text-decoration-color: #00af00\">31</span>, <span style=\"color: #00af00; text-decoration-color: #00af00\">64</span>)      │             <span style=\"color: #00af00; text-decoration-color: #00af00\">0</span> │\n├─────────────────────────────────┼────────────────────────┼───────────────┤\n│ conv2d_2 (<span style=\"color: #0087ff; text-decoration-color: #0087ff\">Conv2D</span>)               │ (<span style=\"color: #00d7ff; text-decoration-color: #00d7ff\">None</span>, <span style=\"color: #00af00; text-decoration-color: #00af00\">6</span>, <span style=\"color: #00af00; text-decoration-color: #00af00\">29</span>, <span style=\"color: #00af00; text-decoration-color: #00af00\">128</span>)     │        <span style=\"color: #00af00; text-decoration-color: #00af00\">73,856</span> │\n├─────────────────────────────────┼────────────────────────┼───────────────┤\n│ max_pooling2d_2 (<span style=\"color: #0087ff; text-decoration-color: #0087ff\">MaxPooling2D</span>)  │ (<span style=\"color: #00d7ff; text-decoration-color: #00d7ff\">None</span>, <span style=\"color: #00af00; text-decoration-color: #00af00\">3</span>, <span style=\"color: #00af00; text-decoration-color: #00af00\">14</span>, <span style=\"color: #00af00; text-decoration-color: #00af00\">128</span>)     │             <span style=\"color: #00af00; text-decoration-color: #00af00\">0</span> │\n├─────────────────────────────────┼────────────────────────┼───────────────┤\n│ dropout_2 (<span style=\"color: #0087ff; text-decoration-color: #0087ff\">Dropout</span>)             │ (<span style=\"color: #00d7ff; text-decoration-color: #00d7ff\">None</span>, <span style=\"color: #00af00; text-decoration-color: #00af00\">3</span>, <span style=\"color: #00af00; text-decoration-color: #00af00\">14</span>, <span style=\"color: #00af00; text-decoration-color: #00af00\">128</span>)     │             <span style=\"color: #00af00; text-decoration-color: #00af00\">0</span> │\n├─────────────────────────────────┼────────────────────────┼───────────────┤\n│ flatten (<span style=\"color: #0087ff; text-decoration-color: #0087ff\">Flatten</span>)               │ (<span style=\"color: #00d7ff; text-decoration-color: #00d7ff\">None</span>, <span style=\"color: #00af00; text-decoration-color: #00af00\">5376</span>)           │             <span style=\"color: #00af00; text-decoration-color: #00af00\">0</span> │\n├─────────────────────────────────┼────────────────────────┼───────────────┤\n│ dense (<span style=\"color: #0087ff; text-decoration-color: #0087ff\">Dense</span>)                   │ (<span style=\"color: #00d7ff; text-decoration-color: #00d7ff\">None</span>, <span style=\"color: #00af00; text-decoration-color: #00af00\">128</span>)            │       <span style=\"color: #00af00; text-decoration-color: #00af00\">688,256</span> │\n├─────────────────────────────────┼────────────────────────┼───────────────┤\n│ dropout_3 (<span style=\"color: #0087ff; text-decoration-color: #0087ff\">Dropout</span>)             │ (<span style=\"color: #00d7ff; text-decoration-color: #00d7ff\">None</span>, <span style=\"color: #00af00; text-decoration-color: #00af00\">128</span>)            │             <span style=\"color: #00af00; text-decoration-color: #00af00\">0</span> │\n├─────────────────────────────────┼────────────────────────┼───────────────┤\n│ dense_1 (<span style=\"color: #0087ff; text-decoration-color: #0087ff\">Dense</span>)                 │ (<span style=\"color: #00d7ff; text-decoration-color: #00d7ff\">None</span>, <span style=\"color: #00af00; text-decoration-color: #00af00\">3</span>)              │           <span style=\"color: #00af00; text-decoration-color: #00af00\">387</span> │\n└─────────────────────────────────┴────────────────────────┴───────────────┘\n</pre>\n"
     },
     "metadata": {},
     "output_type": "display_data"
    },
    {
     "data": {
      "text/plain": "\u001B[1m Total params: \u001B[0m\u001B[38;5;34m781,315\u001B[0m (2.98 MB)\n",
      "text/html": "<pre style=\"white-space:pre;overflow-x:auto;line-height:normal;font-family:Menlo,'DejaVu Sans Mono',consolas,'Courier New',monospace\"><span style=\"font-weight: bold\"> Total params: </span><span style=\"color: #00af00; text-decoration-color: #00af00\">781,315</span> (2.98 MB)\n</pre>\n"
     },
     "metadata": {},
     "output_type": "display_data"
    },
    {
     "data": {
      "text/plain": "\u001B[1m Trainable params: \u001B[0m\u001B[38;5;34m781,315\u001B[0m (2.98 MB)\n",
      "text/html": "<pre style=\"white-space:pre;overflow-x:auto;line-height:normal;font-family:Menlo,'DejaVu Sans Mono',consolas,'Courier New',monospace\"><span style=\"font-weight: bold\"> Trainable params: </span><span style=\"color: #00af00; text-decoration-color: #00af00\">781,315</span> (2.98 MB)\n</pre>\n"
     },
     "metadata": {},
     "output_type": "display_data"
    },
    {
     "data": {
      "text/plain": "\u001B[1m Non-trainable params: \u001B[0m\u001B[38;5;34m0\u001B[0m (0.00 B)\n",
      "text/html": "<pre style=\"white-space:pre;overflow-x:auto;line-height:normal;font-family:Menlo,'DejaVu Sans Mono',consolas,'Courier New',monospace\"><span style=\"font-weight: bold\"> Non-trainable params: </span><span style=\"color: #00af00; text-decoration-color: #00af00\">0</span> (0.00 B)\n</pre>\n"
     },
     "metadata": {},
     "output_type": "display_data"
    }
   ],
   "source": [
    "import tensorflow as tf\n",
    "from tensorflow import keras\n",
    "from tensorflow.keras import layers\n",
    "\n",
    "from tensorflow.keras import regularizers\n",
    "\n",
    "model = keras.Sequential([\n",
    "    layers.Conv2D(32, (3, 3), activation='relu', input_shape=(40, 130, 1)),\n",
    "    layers.MaxPooling2D((2, 2)),\n",
    "    layers.Dropout(0.35),\n",
    "\n",
    "    layers.Conv2D(64, (3, 3), activation='relu'),\n",
    "    layers.MaxPooling2D((2, 2)),\n",
    "    layers.Dropout(0.35),\n",
    "\n",
    "    layers.Conv2D(128, (3, 3), activation='relu'),\n",
    "    layers.MaxPooling2D((2, 2)),\n",
    "    layers.Dropout(0.35),\n",
    "\n",
    "    layers.Flatten(),\n",
    "    layers.Dense(128, activation='relu', kernel_regularizer=regularizers.l2(0.001)),\n",
    "    layers.Dropout(0.35),\n",
    "    layers.Dense(3, activation='softmax')\n",
    "])\n",
    "\n",
    "model.summary()\n"
   ],
   "metadata": {
    "collapsed": false,
    "ExecuteTime": {
     "end_time": "2025-06-29T23:25:59.050201Z",
     "start_time": "2025-06-29T23:25:58.872907Z"
    }
   },
   "id": "c6a98c4ca4e79e43",
   "execution_count": 7
  },
  {
   "cell_type": "code",
   "outputs": [],
   "source": [
    "optimizer = keras.optimizers.Adam(learning_rate=0.0005)\n",
    "\n",
    "model.compile(optimizer=optimizer,\n",
    "              loss='sparse_categorical_crossentropy',\n",
    "              metrics=['accuracy'])\n"
   ],
   "metadata": {
    "collapsed": false,
    "ExecuteTime": {
     "end_time": "2025-06-29T23:25:59.058737Z",
     "start_time": "2025-06-29T23:25:59.051495Z"
    }
   },
   "id": "31d43bd4d960aecd",
   "execution_count": 8
  },
  {
   "cell_type": "code",
   "outputs": [
    {
     "name": "stdout",
     "output_type": "stream",
     "text": [
      "Epoch 1/25\n",
      "\u001B[1m15/15\u001B[0m \u001B[32m━━━━━━━━━━━━━━━━━━━━\u001B[0m\u001B[37m\u001B[0m \u001B[1m1s\u001B[0m 37ms/step - accuracy: 0.3052 - loss: 1.4221 - val_accuracy: 0.5079 - val_loss: 1.2976\n",
      "Epoch 2/25\n",
      "\u001B[1m15/15\u001B[0m \u001B[32m━━━━━━━━━━━━━━━━━━━━\u001B[0m\u001B[37m\u001B[0m \u001B[1m0s\u001B[0m 30ms/step - accuracy: 0.5250 - loss: 1.2777 - val_accuracy: 0.5556 - val_loss: 1.2420\n",
      "Epoch 3/25\n",
      "\u001B[1m15/15\u001B[0m \u001B[32m━━━━━━━━━━━━━━━━━━━━\u001B[0m\u001B[37m\u001B[0m \u001B[1m1s\u001B[0m 35ms/step - accuracy: 0.4141 - loss: 1.2946 - val_accuracy: 0.5556 - val_loss: 1.2100\n",
      "Epoch 4/25\n",
      "\u001B[1m15/15\u001B[0m \u001B[32m━━━━━━━━━━━━━━━━━━━━\u001B[0m\u001B[37m\u001B[0m \u001B[1m0s\u001B[0m 31ms/step - accuracy: 0.5800 - loss: 1.1535 - val_accuracy: 0.6032 - val_loss: 1.1726\n",
      "Epoch 5/25\n",
      "\u001B[1m15/15\u001B[0m \u001B[32m━━━━━━━━━━━━━━━━━━━━\u001B[0m\u001B[37m\u001B[0m \u001B[1m0s\u001B[0m 27ms/step - accuracy: 0.6980 - loss: 1.0545 - val_accuracy: 0.5873 - val_loss: 1.1191\n",
      "Epoch 6/25\n",
      "\u001B[1m15/15\u001B[0m \u001B[32m━━━━━━━━━━━━━━━━━━━━\u001B[0m\u001B[37m\u001B[0m \u001B[1m0s\u001B[0m 28ms/step - accuracy: 0.5763 - loss: 1.0861 - val_accuracy: 0.6508 - val_loss: 1.0857\n",
      "Epoch 7/25\n",
      "\u001B[1m15/15\u001B[0m \u001B[32m━━━━━━━━━━━━━━━━━━━━\u001B[0m\u001B[37m\u001B[0m \u001B[1m1s\u001B[0m 37ms/step - accuracy: 0.6898 - loss: 0.9464 - val_accuracy: 0.6032 - val_loss: 1.0525\n",
      "Epoch 8/25\n",
      "\u001B[1m15/15\u001B[0m \u001B[32m━━━━━━━━━━━━━━━━━━━━\u001B[0m\u001B[37m\u001B[0m \u001B[1m1s\u001B[0m 53ms/step - accuracy: 0.6199 - loss: 0.9674 - val_accuracy: 0.6667 - val_loss: 1.0053\n",
      "Epoch 9/25\n",
      "\u001B[1m15/15\u001B[0m \u001B[32m━━━━━━━━━━━━━━━━━━━━\u001B[0m\u001B[37m\u001B[0m \u001B[1m1s\u001B[0m 59ms/step - accuracy: 0.6746 - loss: 0.9020 - val_accuracy: 0.6667 - val_loss: 0.9578\n",
      "Epoch 10/25\n",
      "\u001B[1m15/15\u001B[0m \u001B[32m━━━━━━━━━━━━━━━━━━━━\u001B[0m\u001B[37m\u001B[0m \u001B[1m0s\u001B[0m 28ms/step - accuracy: 0.6941 - loss: 0.8907 - val_accuracy: 0.7143 - val_loss: 0.9782\n",
      "Epoch 11/25\n",
      "\u001B[1m15/15\u001B[0m \u001B[32m━━━━━━━━━━━━━━━━━━━━\u001B[0m\u001B[37m\u001B[0m \u001B[1m0s\u001B[0m 27ms/step - accuracy: 0.6845 - loss: 0.8996 - val_accuracy: 0.6984 - val_loss: 0.9197\n",
      "Epoch 12/25\n",
      "\u001B[1m15/15\u001B[0m \u001B[32m━━━━━━━━━━━━━━━━━━━━\u001B[0m\u001B[37m\u001B[0m \u001B[1m0s\u001B[0m 26ms/step - accuracy: 0.7666 - loss: 0.7276 - val_accuracy: 0.6984 - val_loss: 0.8756\n",
      "Epoch 13/25\n",
      "\u001B[1m15/15\u001B[0m \u001B[32m━━━━━━━━━━━━━━━━━━━━\u001B[0m\u001B[37m\u001B[0m \u001B[1m0s\u001B[0m 26ms/step - accuracy: 0.7039 - loss: 0.7429 - val_accuracy: 0.7302 - val_loss: 0.8772\n",
      "Epoch 14/25\n",
      "\u001B[1m15/15\u001B[0m \u001B[32m━━━━━━━━━━━━━━━━━━━━\u001B[0m\u001B[37m\u001B[0m \u001B[1m0s\u001B[0m 26ms/step - accuracy: 0.6980 - loss: 0.7562 - val_accuracy: 0.7460 - val_loss: 0.8387\n",
      "Epoch 15/25\n",
      "\u001B[1m15/15\u001B[0m \u001B[32m━━━━━━━━━━━━━━━━━━━━\u001B[0m\u001B[37m\u001B[0m \u001B[1m0s\u001B[0m 27ms/step - accuracy: 0.8029 - loss: 0.6593 - val_accuracy: 0.7302 - val_loss: 0.7938\n",
      "Epoch 16/25\n",
      "\u001B[1m15/15\u001B[0m \u001B[32m━━━━━━━━━━━━━━━━━━━━\u001B[0m\u001B[37m\u001B[0m \u001B[1m0s\u001B[0m 27ms/step - accuracy: 0.8239 - loss: 0.5921 - val_accuracy: 0.7143 - val_loss: 0.8171\n",
      "Epoch 17/25\n",
      "\u001B[1m15/15\u001B[0m \u001B[32m━━━━━━━━━━━━━━━━━━━━\u001B[0m\u001B[37m\u001B[0m \u001B[1m0s\u001B[0m 25ms/step - accuracy: 0.7420 - loss: 0.6523 - val_accuracy: 0.7143 - val_loss: 0.7571\n",
      "Epoch 18/25\n",
      "\u001B[1m15/15\u001B[0m \u001B[32m━━━━━━━━━━━━━━━━━━━━\u001B[0m\u001B[37m\u001B[0m \u001B[1m0s\u001B[0m 26ms/step - accuracy: 0.8342 - loss: 0.5437 - val_accuracy: 0.6825 - val_loss: 0.8024\n",
      "Epoch 19/25\n",
      "\u001B[1m15/15\u001B[0m \u001B[32m━━━━━━━━━━━━━━━━━━━━\u001B[0m\u001B[37m\u001B[0m \u001B[1m0s\u001B[0m 27ms/step - accuracy: 0.8260 - loss: 0.5630 - val_accuracy: 0.7778 - val_loss: 0.6869\n",
      "Epoch 20/25\n",
      "\u001B[1m15/15\u001B[0m \u001B[32m━━━━━━━━━━━━━━━━━━━━\u001B[0m\u001B[37m\u001B[0m \u001B[1m0s\u001B[0m 26ms/step - accuracy: 0.9008 - loss: 0.3855 - val_accuracy: 0.7778 - val_loss: 0.6647\n",
      "Epoch 21/25\n",
      "\u001B[1m15/15\u001B[0m \u001B[32m━━━━━━━━━━━━━━━━━━━━\u001B[0m\u001B[37m\u001B[0m \u001B[1m0s\u001B[0m 27ms/step - accuracy: 0.9106 - loss: 0.3862 - val_accuracy: 0.8254 - val_loss: 0.6454\n",
      "Epoch 22/25\n",
      "\u001B[1m15/15\u001B[0m \u001B[32m━━━━━━━━━━━━━━━━━━━━\u001B[0m\u001B[37m\u001B[0m \u001B[1m0s\u001B[0m 26ms/step - accuracy: 0.9221 - loss: 0.3521 - val_accuracy: 0.8254 - val_loss: 0.5916\n",
      "Epoch 23/25\n",
      "\u001B[1m15/15\u001B[0m \u001B[32m━━━━━━━━━━━━━━━━━━━━\u001B[0m\u001B[37m\u001B[0m \u001B[1m0s\u001B[0m 26ms/step - accuracy: 0.9124 - loss: 0.3613 - val_accuracy: 0.8413 - val_loss: 0.5457\n",
      "Epoch 24/25\n",
      "\u001B[1m15/15\u001B[0m \u001B[32m━━━━━━━━━━━━━━━━━━━━\u001B[0m\u001B[37m\u001B[0m \u001B[1m0s\u001B[0m 26ms/step - accuracy: 0.9054 - loss: 0.3293 - val_accuracy: 0.7937 - val_loss: 0.6257\n",
      "Epoch 25/25\n",
      "\u001B[1m15/15\u001B[0m \u001B[32m━━━━━━━━━━━━━━━━━━━━\u001B[0m\u001B[37m\u001B[0m \u001B[1m0s\u001B[0m 27ms/step - accuracy: 0.9146 - loss: 0.3363 - val_accuracy: 0.8095 - val_loss: 0.5405\n"
     ]
    }
   ],
   "source": [
    "early_stop = keras.callbacks.EarlyStopping(\n",
    "    monitor='val_loss', patience=5, restore_best_weights=True\n",
    ")\n",
    "\n",
    "history = model.fit(\n",
    "    X_train, y_train,\n",
    "    epochs=25,\n",
    "    batch_size=10,\n",
    "    validation_data=(X_test, y_test),\n",
    "    callbacks=[early_stop]\n",
    ")\n"
   ],
   "metadata": {
    "collapsed": false,
    "ExecuteTime": {
     "end_time": "2025-06-29T23:26:11.312303Z",
     "start_time": "2025-06-29T23:25:59.061931Z"
    }
   },
   "id": "1bd0557b8843e674",
   "execution_count": 9
  },
  {
   "cell_type": "markdown",
   "source": [
    "## 4. Graficando los datos de validación y de perdida"
   ],
   "metadata": {
    "collapsed": false
   },
   "id": "d2b7710754f48db"
  },
  {
   "cell_type": "code",
   "outputs": [
    {
     "data": {
      "text/plain": "<Figure size 640x480 with 1 Axes>",
      "image/png": "[encoded data removed]"
     },
     "metadata": {},
     "output_type": "display_data"
    }
   ],
   "source": [
    "loss = history.history[\"loss\"]\n",
    "val_loss = history.history[\"val_loss\"]\n",
    "epochs = range(1, len(loss) + 1)\n",
    "plt.plot(epochs, loss, \"bo\", label=\"Training loss\")\n",
    "plt.plot(epochs, val_loss, \"b\", label=\"Validation loss\")\n",
    "plt.title(\"Training and validation loss\")\n",
    "plt.xlabel(\"Epochs\")\n",
    "plt.ylabel(\"Loss\")\n",
    "plt.legend()\n",
    "plt.show()"
   ],
   "metadata": {
    "collapsed": false,
    "ExecuteTime": {
     "end_time": "2025-06-29T23:26:11.464820Z",
     "start_time": "2025-06-29T23:26:11.313630Z"
    }
   },
   "id": "2aa5e0ede9ce9d1b",
   "execution_count": 10
  },
  {
   "cell_type": "code",
   "outputs": [
    {
     "data": {
      "text/plain": "<Figure size 640x480 with 1 Axes>",
      "image/png": "[encoded data removed]"
     },
     "metadata": {},
     "output_type": "display_data"
    }
   ],
   "source": [
    "plt.clf()\n",
    "acc = history.history[\"accuracy\"]\n",
    "val_acc = history.history[\"val_accuracy\"]\n",
    "plt.plot(epochs, acc, \"bo\", label=\"Training accuracy\")\n",
    "plt.plot(epochs, val_acc, \"b\", label=\"Validation accuracy\")\n",
    "plt.title(\"Training and validation accuracy\")\n",
    "plt.xlabel(\"Epochs\")\n",
    "plt.ylabel(\"Accuracy\")\n",
    "plt.legend()\n",
    "plt.show()"
   ],
   "metadata": {
    "collapsed": false,
    "ExecuteTime": {
     "end_time": "2025-06-29T23:26:11.607434Z",
     "start_time": "2025-06-29T23:26:11.465723Z"
    }
   },
   "id": "1661ba1f20e7fcdc",
   "execution_count": 11
  },
  {
   "cell_type": "code",
   "outputs": [
    {
     "data": {
      "text/plain": "array([1, 2, 0, 2, 1, 2, 0, 1, 2, 2, 1, 0, 0, 1, 2, 2, 0, 2, 2, 1, 1, 0,\n       2, 2, 0, 0, 1, 2, 0, 0, 2, 0, 1, 2, 2, 0, 1, 1, 0, 1, 1, 0, 0, 0,\n       0, 0, 2, 0, 0, 0, 2, 1, 0, 0, 0, 0, 2, 1, 1, 2, 1, 1, 1])"
     },
     "execution_count": 12,
     "metadata": {},
     "output_type": "execute_result"
    }
   ],
   "source": [
    "y_test"
   ],
   "metadata": {
    "collapsed": false,
    "ExecuteTime": {
     "end_time": "2025-06-29T23:26:11.618541Z",
     "start_time": "2025-06-29T23:26:11.610058Z"
    }
   },
   "id": "ceab3b1beb9924e0",
   "execution_count": 12
  },
  {
   "cell_type": "code",
   "outputs": [
    {
     "name": "stdout",
     "output_type": "stream",
     "text": [
      "\u001B[1m2/2\u001B[0m \u001B[32m━━━━━━━━━━━━━━━━━━━━\u001B[0m\u001B[37m\u001B[0m \u001B[1m0s\u001B[0m 64ms/step\n"
     ]
    },
    {
     "data": {
      "text/plain": "<Figure size 600x600 with 2 Axes>",
      "image/png": "[encoded data removed]"
     },
     "metadata": {},
     "output_type": "display_data"
    }
   ],
   "source": [
    "y_pred_prob = model.predict(X_test)\n",
    "y_pred = np.argmax(y_pred_prob, axis=1)\n",
    "\n",
    "cm = confusion_matrix(y_test, y_pred)\n",
    "labels = ['turnstile', 'tssf', 'neckdeep']\n",
    "\n",
    "disp = ConfusionMatrixDisplay(confusion_matrix=cm, display_labels=labels)\n",
    "fig, ax = plt.subplots(figsize=(6,6))\n",
    "disp.plot(ax=ax, cmap='Blues', values_format='d')\n",
    "plt.title(\"Matriz de Confusión\")\n",
    "plt.show()\n"
   ],
   "metadata": {
    "collapsed": false,
    "ExecuteTime": {
     "end_time": "2025-06-29T23:26:11.961442Z",
     "start_time": "2025-06-29T23:26:11.622411Z"
    }
   },
   "id": "99b605327d98782f",
   "execution_count": 13
  },
  {
   "cell_type": "code",
   "outputs": [
    {
     "name": "stdout",
     "output_type": "stream",
     "text": [
      "\u001B[1m2/2\u001B[0m \u001B[32m━━━━━━━━━━━━━━━━━━━━\u001B[0m\u001B[37m\u001B[0m \u001B[1m0s\u001B[0m 34ms/step - accuracy: 0.8105 - loss: 0.5221\n"
     ]
    },
    {
     "data": {
      "text/plain": "[0.5405100584030151, 0.8095238208770752]"
     },
     "execution_count": 14,
     "metadata": {},
     "output_type": "execute_result"
    }
   ],
   "source": [
    "model.evaluate(X_test, y_test)"
   ],
   "metadata": {
    "collapsed": false,
    "ExecuteTime": {
     "end_time": "2025-06-29T23:26:12.082855Z",
     "start_time": "2025-06-29T23:26:11.965192Z"
    }
   },
   "id": "8ef1142182668389",
   "execution_count": 14
  },
  {
   "cell_type": "markdown",
   "source": [
    "# 5. Predicción  de una nueva canción\n"
   ],
   "metadata": {
    "collapsed": false
   },
   "id": "1448984266686307"
  },
  {
   "cell_type": "code",
   "outputs": [
    {
     "name": "stdout",
     "output_type": "stream",
     "text": [
      "\u001B[1m1/1\u001B[0m \u001B[32m━━━━━━━━━━━━━━━━━━━━\u001B[0m\u001B[37m\u001B[0m \u001B[1m0s\u001B[0m 25ms/step\n",
      "La canción fue clasificada como: turnstile\n"
     ]
    }
   ],
   "source": [
    "# Chequemos si el modelo es capaz de predecir si la canción nueva de Neck Deep en efecto es de Neck Deep\n",
    "\n",
    "new_song_path = '/Users/erickavendanogarcia/Downloads/ys.mp3'\n",
    "audio_new = load_audio(new_song_path)\n",
    "mfcc_new = extract_mfcc(audio_new)\n",
    "mfcc_new = (mfcc_new - np.mean(mfcc_new)) / (np.std(mfcc_new) + 1e-6)\n",
    "x_new = mfcc_new[np.newaxis, ..., np.newaxis]\n",
    "\n",
    "prediction = model.predict(x_new)\n",
    "predicted_class = np.argmax(prediction)\n",
    "\n",
    "inv_label_map = {v: k for k, v in label_map.items()}\n",
    "print(f\"La canción fue clasificada como: {inv_label_map[predicted_class]}\")"
   ],
   "metadata": {
    "collapsed": false,
    "ExecuteTime": {
     "end_time": "2025-06-29T23:26:41.828349Z",
     "start_time": "2025-06-29T23:26:41.630971Z"
    }
   },
   "id": "e2b95e73e92c438e",
   "execution_count": 18
  },
  {
   "cell_type": "code",
   "outputs": [
    {
     "data": {
      "text/plain": "array([[0.9764347 , 0.00186693, 0.02169833]], dtype=float32)"
     },
     "execution_count": 19,
     "metadata": {},
     "output_type": "execute_result"
    }
   ],
   "source": [
    "prediction"
   ],
   "metadata": {
    "collapsed": false,
    "ExecuteTime": {
     "end_time": "2025-06-29T23:26:45.873179Z",
     "start_time": "2025-06-29T23:26:45.858075Z"
    }
   },
   "id": "61da3807a1c25f5d",
   "execution_count": 19
  },
  {
   "cell_type": "markdown",
   "source": [
    "#Visualización de un MFCC\n",
    "\n",
    "\n",
    "file_path = '/Users/erickavendanogarcia/Desktop/ML_physics/dataset/turnstile/turnstile_Icare.mp3'\n",
    "\n",
    "# Cargar el audio\n",
    "y, sr = librosa.load(file_path, sr=22050, duration=30)\n",
    "\n",
    "# Extraer MFCC (sin promediar)\n",
    "mfcc = librosa.feature.mfcc(y=y, sr=sr, n_mfcc=40)\n",
    "\n",
    "# Mostrar espectrograma MFCC\n",
    "plt.figure(figsize=(10, 4))\n",
    "librosa.display.specshow(mfcc, x_axis='time', sr=sr)\n",
    "plt.colorbar(format='%+2.0f dB')\n",
    "plt.title('MFCC - Turnstile')\n",
    "plt.tight_layout()\n",
    "plt.show()\n",
    "\n",
    "# Mostrar vector promedio\n",
    "mfcc_mean = np.mean(mfcc, axis=1)\n",
    "plt.figure(figsize=(8, 4))\n",
    "plt.bar(range(len(mfcc_mean)), mfcc_mean)\n",
    "plt.xlabel('Índice del coeficiente MFCC')\n",
    "plt.ylabel('Valor promedio')\n",
    "plt.title('MFCC Promediado - Turnstile')\n",
    "plt.show()"
   ],
   "metadata": {
    "collapsed": false
   },
   "id": "1c80427cac590b39"
  }
 ],
 "metadata": {
  "kernelspec": {
   "display_name": "Python 3",
   "language": "python",
   "name": "python3"
  },
  "language_info": {
   "codemirror_mode": {
    "name": "ipython",
    "version": 2
   },
   "file_extension": ".py",
   "mimetype": "text/x-python",
   "name": "python",
   "nbconvert_exporter": "python",
   "pygments_lexer": "ipython2",
   "version": "2.7.6"
  }
 },
 "nbformat": 4,
 "nbformat_minor": 5
}
