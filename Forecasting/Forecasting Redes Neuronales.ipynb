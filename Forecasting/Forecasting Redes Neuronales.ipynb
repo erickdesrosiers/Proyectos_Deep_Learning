{
 "cells": [
  {
   "cell_type": "code",
   "id": "initial_id",
   "metadata": {
    "collapsed": true,
    "ExecuteTime": {
     "end_time": "2025-08-16T15:07:32.852780Z",
     "start_time": "2025-08-16T15:07:32.847182Z"
    }
   },
   "source": "print(\"1\")",
   "outputs": [
    {
     "name": "stdout",
     "output_type": "stream",
     "text": [
      "1\n"
     ]
    }
   ],
   "execution_count": 1
  },
  {
   "metadata": {
    "ExecuteTime": {
     "end_time": "2025-08-17T00:09:19.791786Z",
     "start_time": "2025-08-17T00:09:19.758498Z"
    }
   },
   "cell_type": "code",
   "source": "print(\"Una prueba para el Git\")",
   "id": "12b68ea461bc1130",
   "outputs": [
    {
     "name": "stdout",
     "output_type": "stream",
     "text": [
      "Una prueba para el Git\n"
     ]
    }
   ],
   "execution_count": 2
  },
  {
   "metadata": {},
   "cell_type": "code",
   "outputs": [],
   "execution_count": null,
   "source": "",
   "id": "9e74d5acbb569c45"
  }
 ],
 "metadata": {
  "kernelspec": {
   "display_name": "Python 3",
   "language": "python",
   "name": "python3"
  },
  "language_info": {
   "codemirror_mode": {
    "name": "ipython",
    "version": 2
   },
   "file_extension": ".py",
   "mimetype": "text/x-python",
   "name": "python",
   "nbconvert_exporter": "python",
   "pygments_lexer": "ipython2",
   "version": "2.7.6"
  }
 },
 "nbformat": 4,
 "nbformat_minor": 5
}
