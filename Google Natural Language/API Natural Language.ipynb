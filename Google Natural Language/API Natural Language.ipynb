{
 "cells": [
  {
   "cell_type": "markdown",
   "source": [
    "## 1. Instalación"
   ],
   "metadata": {
    "collapsed": false
   },
   "id": "1f4b3cbec44876a9"
  },
  {
   "cell_type": "markdown",
   "source": [
    "Asegúrate de tener un archivo .env en el que puedas guardar tus credenciales de la API de Google Natural Language, puedes ver un tutorial aquí donde explican un poco sobre su instalación:\n",
    "\n",
    "https://www.youtube.com/watch?v=iqRgOdJZtiY"
   ],
   "metadata": {
    "collapsed": false
   },
   "id": "b61bc900c08fa3e2"
  },
  {
   "cell_type": "code",
   "outputs": [
    {
     "name": "stdout",
     "output_type": "stream",
     "text": [
      "Requirement already satisfied: google-cloud-language in /Users/erickavendanogarcia/anaconda3/lib/python3.11/site-packages (2.17.2)\r\n",
      "Requirement already satisfied: google-api-core[grpc]!=2.0.*,!=2.1.*,!=2.10.*,!=2.2.*,!=2.3.*,!=2.4.*,!=2.5.*,!=2.6.*,!=2.7.*,!=2.8.*,!=2.9.*,<3.0.0,>=1.34.1 in /Users/erickavendanogarcia/anaconda3/lib/python3.11/site-packages (from google-cloud-language) (2.25.1)\r\n",
      "Requirement already satisfied: google-auth!=2.24.0,!=2.25.0,<3.0.0,>=2.14.1 in /Users/erickavendanogarcia/anaconda3/lib/python3.11/site-packages (from google-cloud-language) (2.40.2)\r\n",
      "Requirement already satisfied: proto-plus<2.0.0,>=1.22.3 in /Users/erickavendanogarcia/anaconda3/lib/python3.11/site-packages (from google-cloud-language) (1.26.1)\r\n",
      "Requirement already satisfied: protobuf!=4.21.0,!=4.21.1,!=4.21.2,!=4.21.3,!=4.21.4,!=4.21.5,<7.0.0,>=3.20.2 in /Users/erickavendanogarcia/anaconda3/lib/python3.11/site-packages (from google-cloud-language) (6.31.1)\r\n",
      "Requirement already satisfied: googleapis-common-protos<2.0.0,>=1.56.2 in /Users/erickavendanogarcia/anaconda3/lib/python3.11/site-packages (from google-api-core[grpc]!=2.0.*,!=2.1.*,!=2.10.*,!=2.2.*,!=2.3.*,!=2.4.*,!=2.5.*,!=2.6.*,!=2.7.*,!=2.8.*,!=2.9.*,<3.0.0,>=1.34.1->google-cloud-language) (1.70.0)\r\n",
      "Requirement already satisfied: requests<3.0.0,>=2.18.0 in /Users/erickavendanogarcia/anaconda3/lib/python3.11/site-packages (from google-api-core[grpc]!=2.0.*,!=2.1.*,!=2.10.*,!=2.2.*,!=2.3.*,!=2.4.*,!=2.5.*,!=2.6.*,!=2.7.*,!=2.8.*,!=2.9.*,<3.0.0,>=1.34.1->google-cloud-language) (2.31.0)\r\n",
      "Requirement already satisfied: grpcio<2.0.0,>=1.33.2 in /Users/erickavendanogarcia/anaconda3/lib/python3.11/site-packages (from google-api-core[grpc]!=2.0.*,!=2.1.*,!=2.10.*,!=2.2.*,!=2.3.*,!=2.4.*,!=2.5.*,!=2.6.*,!=2.7.*,!=2.8.*,!=2.9.*,<3.0.0,>=1.34.1->google-cloud-language) (1.73.1)\r\n",
      "Requirement already satisfied: grpcio-status<2.0.0,>=1.33.2 in /Users/erickavendanogarcia/anaconda3/lib/python3.11/site-packages (from google-api-core[grpc]!=2.0.*,!=2.1.*,!=2.10.*,!=2.2.*,!=2.3.*,!=2.4.*,!=2.5.*,!=2.6.*,!=2.7.*,!=2.8.*,!=2.9.*,<3.0.0,>=1.34.1->google-cloud-language) (1.73.1)\r\n",
      "Requirement already satisfied: cachetools<6.0,>=2.0.0 in /Users/erickavendanogarcia/anaconda3/lib/python3.11/site-packages (from google-auth!=2.24.0,!=2.25.0,<3.0.0,>=2.14.1->google-cloud-language) (5.5.2)\r\n",
      "Requirement already satisfied: pyasn1-modules>=0.2.1 in /Users/erickavendanogarcia/anaconda3/lib/python3.11/site-packages (from google-auth!=2.24.0,!=2.25.0,<3.0.0,>=2.14.1->google-cloud-language) (0.2.8)\r\n",
      "Requirement already satisfied: rsa<5,>=3.1.4 in /Users/erickavendanogarcia/anaconda3/lib/python3.11/site-packages (from google-auth!=2.24.0,!=2.25.0,<3.0.0,>=2.14.1->google-cloud-language) (4.9.1)\r\n",
      "Requirement already satisfied: pyasn1<0.5.0,>=0.4.6 in /Users/erickavendanogarcia/anaconda3/lib/python3.11/site-packages (from pyasn1-modules>=0.2.1->google-auth!=2.24.0,!=2.25.0,<3.0.0,>=2.14.1->google-cloud-language) (0.4.8)\r\n",
      "Requirement already satisfied: charset-normalizer<4,>=2 in /Users/erickavendanogarcia/anaconda3/lib/python3.11/site-packages (from requests<3.0.0,>=2.18.0->google-api-core[grpc]!=2.0.*,!=2.1.*,!=2.10.*,!=2.2.*,!=2.3.*,!=2.4.*,!=2.5.*,!=2.6.*,!=2.7.*,!=2.8.*,!=2.9.*,<3.0.0,>=1.34.1->google-cloud-language) (2.0.4)\r\n",
      "Requirement already satisfied: idna<4,>=2.5 in /Users/erickavendanogarcia/anaconda3/lib/python3.11/site-packages (from requests<3.0.0,>=2.18.0->google-api-core[grpc]!=2.0.*,!=2.1.*,!=2.10.*,!=2.2.*,!=2.3.*,!=2.4.*,!=2.5.*,!=2.6.*,!=2.7.*,!=2.8.*,!=2.9.*,<3.0.0,>=1.34.1->google-cloud-language) (3.4)\r\n",
      "Requirement already satisfied: urllib3<3,>=1.21.1 in /Users/erickavendanogarcia/anaconda3/lib/python3.11/site-packages (from requests<3.0.0,>=2.18.0->google-api-core[grpc]!=2.0.*,!=2.1.*,!=2.10.*,!=2.2.*,!=2.3.*,!=2.4.*,!=2.5.*,!=2.6.*,!=2.7.*,!=2.8.*,!=2.9.*,<3.0.0,>=1.34.1->google-cloud-language) (1.26.16)\r\n",
      "Requirement already satisfied: certifi>=2017.4.17 in /Users/erickavendanogarcia/anaconda3/lib/python3.11/site-packages (from requests<3.0.0,>=2.18.0->google-api-core[grpc]!=2.0.*,!=2.1.*,!=2.10.*,!=2.2.*,!=2.3.*,!=2.4.*,!=2.5.*,!=2.6.*,!=2.7.*,!=2.8.*,!=2.9.*,<3.0.0,>=1.34.1->google-cloud-language) (2023.7.22)\r\n",
      "Note: you may need to restart the kernel to use updated packages.\n"
     ]
    }
   ],
   "source": [
    "pip install google-cloud-language"
   ],
   "metadata": {
    "collapsed": false,
    "ExecuteTime": {
     "end_time": "2025-07-14T04:23:21.759885Z",
     "start_time": "2025-07-14T04:23:19.416031Z"
    }
   },
   "id": "bfefaf2b5ed6ecc6",
   "execution_count": 1
  },
  {
   "cell_type": "code",
   "outputs": [
    {
     "name": "stdout",
     "output_type": "stream",
     "text": [
      "Requirement already satisfied: google-cloud-translate in /Users/erickavendanogarcia/anaconda3/lib/python3.11/site-packages (3.21.1)\r\n",
      "Requirement already satisfied: google-api-core[grpc]!=2.0.*,!=2.1.*,!=2.10.*,!=2.2.*,!=2.3.*,!=2.4.*,!=2.5.*,!=2.6.*,!=2.7.*,!=2.8.*,!=2.9.*,<3.0.0,>=1.34.1 in /Users/erickavendanogarcia/anaconda3/lib/python3.11/site-packages (from google-cloud-translate) (2.25.1)\r\n",
      "Requirement already satisfied: google-auth!=2.24.0,!=2.25.0,<3.0.0,>=2.14.1 in /Users/erickavendanogarcia/anaconda3/lib/python3.11/site-packages (from google-cloud-translate) (2.40.2)\r\n",
      "Requirement already satisfied: google-cloud-core<3.0.0,>=1.4.4 in /Users/erickavendanogarcia/anaconda3/lib/python3.11/site-packages (from google-cloud-translate) (2.4.3)\r\n",
      "Requirement already satisfied: proto-plus<2.0.0,>=1.22.3 in /Users/erickavendanogarcia/anaconda3/lib/python3.11/site-packages (from google-cloud-translate) (1.26.1)\r\n",
      "Requirement already satisfied: protobuf!=4.21.0,!=4.21.1,!=4.21.2,!=4.21.3,!=4.21.4,!=4.21.5,<7.0.0,>=3.20.2 in /Users/erickavendanogarcia/anaconda3/lib/python3.11/site-packages (from google-cloud-translate) (6.31.1)\r\n",
      "Requirement already satisfied: grpc-google-iam-v1<1.0.0,>=0.14.0 in /Users/erickavendanogarcia/anaconda3/lib/python3.11/site-packages (from google-cloud-translate) (0.14.2)\r\n",
      "Requirement already satisfied: googleapis-common-protos<2.0.0,>=1.56.2 in /Users/erickavendanogarcia/anaconda3/lib/python3.11/site-packages (from google-api-core[grpc]!=2.0.*,!=2.1.*,!=2.10.*,!=2.2.*,!=2.3.*,!=2.4.*,!=2.5.*,!=2.6.*,!=2.7.*,!=2.8.*,!=2.9.*,<3.0.0,>=1.34.1->google-cloud-translate) (1.70.0)\r\n",
      "Requirement already satisfied: requests<3.0.0,>=2.18.0 in /Users/erickavendanogarcia/anaconda3/lib/python3.11/site-packages (from google-api-core[grpc]!=2.0.*,!=2.1.*,!=2.10.*,!=2.2.*,!=2.3.*,!=2.4.*,!=2.5.*,!=2.6.*,!=2.7.*,!=2.8.*,!=2.9.*,<3.0.0,>=1.34.1->google-cloud-translate) (2.31.0)\r\n",
      "Requirement already satisfied: grpcio<2.0.0,>=1.33.2 in /Users/erickavendanogarcia/anaconda3/lib/python3.11/site-packages (from google-api-core[grpc]!=2.0.*,!=2.1.*,!=2.10.*,!=2.2.*,!=2.3.*,!=2.4.*,!=2.5.*,!=2.6.*,!=2.7.*,!=2.8.*,!=2.9.*,<3.0.0,>=1.34.1->google-cloud-translate) (1.73.1)\r\n",
      "Requirement already satisfied: grpcio-status<2.0.0,>=1.33.2 in /Users/erickavendanogarcia/anaconda3/lib/python3.11/site-packages (from google-api-core[grpc]!=2.0.*,!=2.1.*,!=2.10.*,!=2.2.*,!=2.3.*,!=2.4.*,!=2.5.*,!=2.6.*,!=2.7.*,!=2.8.*,!=2.9.*,<3.0.0,>=1.34.1->google-cloud-translate) (1.73.1)\r\n",
      "Requirement already satisfied: cachetools<6.0,>=2.0.0 in /Users/erickavendanogarcia/anaconda3/lib/python3.11/site-packages (from google-auth!=2.24.0,!=2.25.0,<3.0.0,>=2.14.1->google-cloud-translate) (5.5.2)\r\n",
      "Requirement already satisfied: pyasn1-modules>=0.2.1 in /Users/erickavendanogarcia/anaconda3/lib/python3.11/site-packages (from google-auth!=2.24.0,!=2.25.0,<3.0.0,>=2.14.1->google-cloud-translate) (0.2.8)\r\n",
      "Requirement already satisfied: rsa<5,>=3.1.4 in /Users/erickavendanogarcia/anaconda3/lib/python3.11/site-packages (from google-auth!=2.24.0,!=2.25.0,<3.0.0,>=2.14.1->google-cloud-translate) (4.9.1)\r\n",
      "Requirement already satisfied: pyasn1<0.5.0,>=0.4.6 in /Users/erickavendanogarcia/anaconda3/lib/python3.11/site-packages (from pyasn1-modules>=0.2.1->google-auth!=2.24.0,!=2.25.0,<3.0.0,>=2.14.1->google-cloud-translate) (0.4.8)\r\n",
      "Requirement already satisfied: charset-normalizer<4,>=2 in /Users/erickavendanogarcia/anaconda3/lib/python3.11/site-packages (from requests<3.0.0,>=2.18.0->google-api-core[grpc]!=2.0.*,!=2.1.*,!=2.10.*,!=2.2.*,!=2.3.*,!=2.4.*,!=2.5.*,!=2.6.*,!=2.7.*,!=2.8.*,!=2.9.*,<3.0.0,>=1.34.1->google-cloud-translate) (2.0.4)\r\n",
      "Requirement already satisfied: idna<4,>=2.5 in /Users/erickavendanogarcia/anaconda3/lib/python3.11/site-packages (from requests<3.0.0,>=2.18.0->google-api-core[grpc]!=2.0.*,!=2.1.*,!=2.10.*,!=2.2.*,!=2.3.*,!=2.4.*,!=2.5.*,!=2.6.*,!=2.7.*,!=2.8.*,!=2.9.*,<3.0.0,>=1.34.1->google-cloud-translate) (3.4)\r\n",
      "Requirement already satisfied: urllib3<3,>=1.21.1 in /Users/erickavendanogarcia/anaconda3/lib/python3.11/site-packages (from requests<3.0.0,>=2.18.0->google-api-core[grpc]!=2.0.*,!=2.1.*,!=2.10.*,!=2.2.*,!=2.3.*,!=2.4.*,!=2.5.*,!=2.6.*,!=2.7.*,!=2.8.*,!=2.9.*,<3.0.0,>=1.34.1->google-cloud-translate) (1.26.16)\r\n",
      "Requirement already satisfied: certifi>=2017.4.17 in /Users/erickavendanogarcia/anaconda3/lib/python3.11/site-packages (from requests<3.0.0,>=2.18.0->google-api-core[grpc]!=2.0.*,!=2.1.*,!=2.10.*,!=2.2.*,!=2.3.*,!=2.4.*,!=2.5.*,!=2.6.*,!=2.7.*,!=2.8.*,!=2.9.*,<3.0.0,>=1.34.1->google-cloud-translate) (2023.7.22)\r\n",
      "Note: you may need to restart the kernel to use updated packages.\n"
     ]
    }
   ],
   "source": [
    "pip install --upgrade google-cloud-translate"
   ],
   "metadata": {
    "collapsed": false,
    "ExecuteTime": {
     "end_time": "2025-07-14T04:23:24.081542Z",
     "start_time": "2025-07-14T04:23:21.761258Z"
    }
   },
   "id": "e8b1cb0ae1f169c4",
   "execution_count": 2
  },
  {
   "cell_type": "code",
   "outputs": [],
   "source": [
    "from google.cloud import language_v1 as language"
   ],
   "metadata": {
    "collapsed": true,
    "ExecuteTime": {
     "end_time": "2025-07-14T04:23:24.346690Z",
     "start_time": "2025-07-14T04:23:24.084743Z"
    }
   },
   "id": "initial_id",
   "execution_count": 3
  },
  {
   "cell_type": "code",
   "outputs": [],
   "source": [
    "from dotenv import load_dotenv\n",
    "import os"
   ],
   "metadata": {
    "collapsed": false,
    "ExecuteTime": {
     "end_time": "2025-07-14T04:23:24.352313Z",
     "start_time": "2025-07-14T04:23:24.347347Z"
    }
   },
   "id": "175bc81a6677fb9e",
   "execution_count": 4
  },
  {
   "cell_type": "code",
   "outputs": [],
   "source": [
    "load_dotenv()  # Carga las variables del archivo .env\n",
    "credentials_path = os.getenv('GOOGLE_APPLICATION_CREDENTIALS')\n",
    "\n",
    "os.environ['GOOGLE_APPLICATION_CREDENTIALS'] = credentials_path"
   ],
   "metadata": {
    "collapsed": false,
    "ExecuteTime": {
     "end_time": "2025-07-14T04:23:24.572964Z",
     "start_time": "2025-07-14T04:23:24.353011Z"
    }
   },
   "id": "151f3e02f3b4a644",
   "execution_count": 5
  },
  {
   "cell_type": "code",
   "outputs": [],
   "source": [
    "client=language.LanguageServiceClient()"
   ],
   "metadata": {
    "collapsed": false,
    "ExecuteTime": {
     "end_time": "2025-07-14T04:23:24.669250Z",
     "start_time": "2025-07-14T04:23:24.574086Z"
    }
   },
   "id": "696e2f27b68b1d29",
   "execution_count": 6
  },
  {
   "cell_type": "markdown",
   "source": [
    "## 2. Probemos el Análisis de Sentimiento"
   ],
   "metadata": {
    "collapsed": false
   },
   "id": "a2e4dc4680ae1cbf"
  },
  {
   "cell_type": "code",
   "outputs": [],
   "source": [
    "import pandas as pd \n",
    "def analizar_sentimiento_texto(texto: str):\n",
    "    cliente = language.LanguageServiceClient()\n",
    "    documento = language.Document(\n",
    "        content=texto,\n",
    "        type_=language.Document.Type.PLAIN_TEXT,\n",
    "    )\n",
    "    respuesta = cliente.analyze_sentiment(document=documento)\n",
    "    return respuesta\n",
    "\n",
    "def obtener_dataframes_sentimiento(respuesta: language.AnalyzeSentimentResponse):\n",
    "    # DataFrame para oraciones\n",
    "    oraciones = [{\n",
    "        \"oracion\": s.text.content,\n",
    "        \"score\": s.sentiment.score,\n",
    "        \"magnitud\": s.sentiment.magnitude\n",
    "    } for s in respuesta.sentences]\n",
    "    df_oraciones = pd.DataFrame(oraciones)\n",
    "\n",
    "    # DataFrame para documento completo\n",
    "    sentimiento_doc = respuesta.document_sentiment\n",
    "    df_documento = pd.DataFrame([{\n",
    "        \"puntaje\": sentimiento_doc.score,\n",
    "        \"magnitud\": sentimiento_doc.magnitude,\n",
    "        \"idioma\": respuesta.language\n",
    "    }])\n",
    "\n",
    "    return df_oraciones, df_documento"
   ],
   "metadata": {
    "collapsed": false,
    "ExecuteTime": {
     "end_time": "2025-07-14T04:23:24.673014Z",
     "start_time": "2025-07-14T04:23:24.669898Z"
    }
   },
   "id": "530fe9e9257585bf",
   "execution_count": 7
  },
  {
   "cell_type": "code",
   "outputs": [],
   "source": [
    "texto = (\n",
    "    \"Python es un lenguaje muy legible, lo que facilita entender y mantener el código. \"\n",
    "    \"Probablemente blik-182 es una de las mejores bandas de la historia. \"\n",
    "    \"Odio trabajar con APIS porque no las entiendo y me causa mucha frustración.\"\n",
    ")\n",
    "\n",
    "respuesta_sentimiento = analizar_sentimiento_texto(texto)\n",
    "df_oraciones, df_documento = obtener_dataframes_sentimiento(respuesta_sentimiento)"
   ],
   "metadata": {
    "collapsed": false,
    "ExecuteTime": {
     "end_time": "2025-07-14T04:23:30.320657Z",
     "start_time": "2025-07-14T04:23:24.673742Z"
    }
   },
   "id": "eb5bf396e9482a41",
   "execution_count": 8
  },
  {
   "cell_type": "code",
   "outputs": [
    {
     "data": {
      "text/plain": "                                             oracion  score  magnitud\n0  Python es un lenguaje muy legible, lo que faci...    0.8       0.8\n1  Probablemente blik-182 es una de las mejores b...    0.9       0.9\n2  Odio trabajar con APIS porque no las entiendo ...   -0.5       0.5",
      "text/html": "<div>\n<style scoped>\n    .dataframe tbody tr th:only-of-type {\n        vertical-align: middle;\n    }\n\n    .dataframe tbody tr th {\n        vertical-align: top;\n    }\n\n    .dataframe thead th {\n        text-align: right;\n    }\n</style>\n<table border=\"1\" class=\"dataframe\">\n  <thead>\n    <tr style=\"text-align: right;\">\n      <th></th>\n      <th>oracion</th>\n      <th>score</th>\n      <th>magnitud</th>\n    </tr>\n  </thead>\n  <tbody>\n    <tr>\n      <th>0</th>\n      <td>Python es un lenguaje muy legible, lo que faci...</td>\n      <td>0.8</td>\n      <td>0.8</td>\n    </tr>\n    <tr>\n      <th>1</th>\n      <td>Probablemente blik-182 es una de las mejores b...</td>\n      <td>0.9</td>\n      <td>0.9</td>\n    </tr>\n    <tr>\n      <th>2</th>\n      <td>Odio trabajar con APIS porque no las entiendo ...</td>\n      <td>-0.5</td>\n      <td>0.5</td>\n    </tr>\n  </tbody>\n</table>\n</div>"
     },
     "execution_count": 9,
     "metadata": {},
     "output_type": "execute_result"
    }
   ],
   "source": [
    "df_oraciones"
   ],
   "metadata": {
    "collapsed": false,
    "ExecuteTime": {
     "end_time": "2025-07-14T04:23:30.331901Z",
     "start_time": "2025-07-14T04:23:30.321667Z"
    }
   },
   "id": "e753ac177fe957bd",
   "execution_count": 9
  },
  {
   "cell_type": "markdown",
   "source": [
    "\n",
    "- El Score del sentimiento oscila entre -1,0 (negativo) y 1,0 (positivo) y corresponde al sentimiento general a partir de la información proporcionada.\n",
    "- La magnitud del sentimiento oscila entre 0,0 y $+\\infty$ e indica la intensidad general del sentimiento a partir de la información proporcionada. Cuanta más información se proporcione, mayor será la magnitud."
   ],
   "metadata": {
    "collapsed": false
   },
   "id": "77f5bf65549fb304"
  },
  {
   "cell_type": "markdown",
   "source": [
    "## 3. Análisis de entidades:\n",
    "En este apartado se tienen un par de funciones y cómo la API nos ayuda a analizar nuestro texto y descomponerlo en sus principales entidades y el tipo que respecta a cada una."
   ],
   "metadata": {
    "collapsed": false
   },
   "id": "7a1ff1f325d4b7fa"
  },
  {
   "cell_type": "code",
   "outputs": [],
   "source": [
    "def analizar_entidades_texto(texto: str) -> language.AnalyzeEntitiesResponse:\n",
    "    cliente = language.LanguageServiceClient()\n",
    "    documento = language.Document(\n",
    "        content=texto,\n",
    "        type_=language.Document.Type.PLAIN_TEXT,\n",
    "    )\n",
    "    return cliente.analyze_entities(document=documento)\n",
    "\n",
    "def mostrar_entidades_texto_completo(respuesta: language.AnalyzeEntitiesResponse) -> pd.DataFrame:\n",
    "    datos = []\n",
    "    for entidad in respuesta.entities:\n",
    "        # Extraer todas las menciones (texto y tipo)\n",
    "        menciones = []\n",
    "        for m in entidad.mentions:\n",
    "            tipo_mencion = language.EntityMention.Type(m.type_).name\n",
    "            menciones.append(f\"{m.text.content} ({tipo_mencion})\")\n",
    "        menciones_str = \"; \".join(menciones)\n",
    "\n",
    "        datos.append({\n",
    "            \"nombre\": entidad.name,\n",
    "            \"tipo\": language.Entity.Type(entidad.type_).name,\n",
    "            \"relevancia\": entidad.salience,\n",
    "            \"mid\": entidad.metadata.get(\"mid\", \"\"),\n",
    "            \"url_wikipedia\": entidad.metadata.get(\"wikipedia_url\", \"\"),\n",
    "            \"url_google\": entidad.metadata.get(\"google_url\", \"\"),\n",
    "            \"menciones\": menciones_str,\n",
    "        })\n",
    "\n",
    "    df = pd.DataFrame(datos)\n",
    "    if not df.empty:\n",
    "        df[\"relevancia\"] = df[\"relevancia\"].apply(lambda x: f\"{x:.1%}\")\n",
    "    return df\n"
   ],
   "metadata": {
    "collapsed": false,
    "ExecuteTime": {
     "end_time": "2025-07-14T04:23:30.337351Z",
     "start_time": "2025-07-14T04:23:30.333106Z"
    }
   },
   "id": "ea156885893fadb7",
   "execution_count": 10
  },
  {
   "cell_type": "code",
   "outputs": [
    {
     "data": {
      "text/plain": "             nombre          tipo relevancia          mid  \\\n0             banda  ORGANIZATION      32.7%                \n1  The Story So Far   WORK_OF_ART      20.1%   /m/01v5yd1   \n2     Parker Cannon        PERSON      19.7%  /m/01081vns   \n3          pop-punk         OTHER      14.0%                \n4        festivales         EVENT       8.7%                \n5  Vans Warped Tour         EVENT       4.8%    /m/017bc3   \n6               una        NUMBER       0.0%                \n\n                                       url_wikipedia url_google  \\\n0                                                                 \n1  https://en.wikipedia.org/wiki/The_Story_So_Far...              \n2                                                                 \n3                                                                 \n4                                                                 \n5          https://en.wikipedia.org/wiki/Warped_Tour              \n6                                                                 \n\n                   menciones  \n0             banda (COMMON)  \n1  The Story So Far (PROPER)  \n2     Parker Cannon (PROPER)  \n3          pop-punk (COMMON)  \n4        festivales (COMMON)  \n5  Vans Warped Tour (PROPER)  \n6         una (TYPE_UNKNOWN)  ",
      "text/html": "<div>\n<style scoped>\n    .dataframe tbody tr th:only-of-type {\n        vertical-align: middle;\n    }\n\n    .dataframe tbody tr th {\n        vertical-align: top;\n    }\n\n    .dataframe thead th {\n        text-align: right;\n    }\n</style>\n<table border=\"1\" class=\"dataframe\">\n  <thead>\n    <tr style=\"text-align: right;\">\n      <th></th>\n      <th>nombre</th>\n      <th>tipo</th>\n      <th>relevancia</th>\n      <th>mid</th>\n      <th>url_wikipedia</th>\n      <th>url_google</th>\n      <th>menciones</th>\n    </tr>\n  </thead>\n  <tbody>\n    <tr>\n      <th>0</th>\n      <td>banda</td>\n      <td>ORGANIZATION</td>\n      <td>32.7%</td>\n      <td></td>\n      <td></td>\n      <td></td>\n      <td>banda (COMMON)</td>\n    </tr>\n    <tr>\n      <th>1</th>\n      <td>The Story So Far</td>\n      <td>WORK_OF_ART</td>\n      <td>20.1%</td>\n      <td>/m/01v5yd1</td>\n      <td>https://en.wikipedia.org/wiki/The_Story_So_Far...</td>\n      <td></td>\n      <td>The Story So Far (PROPER)</td>\n    </tr>\n    <tr>\n      <th>2</th>\n      <td>Parker Cannon</td>\n      <td>PERSON</td>\n      <td>19.7%</td>\n      <td>/m/01081vns</td>\n      <td></td>\n      <td></td>\n      <td>Parker Cannon (PROPER)</td>\n    </tr>\n    <tr>\n      <th>3</th>\n      <td>pop-punk</td>\n      <td>OTHER</td>\n      <td>14.0%</td>\n      <td></td>\n      <td></td>\n      <td></td>\n      <td>pop-punk (COMMON)</td>\n    </tr>\n    <tr>\n      <th>4</th>\n      <td>festivales</td>\n      <td>EVENT</td>\n      <td>8.7%</td>\n      <td></td>\n      <td></td>\n      <td></td>\n      <td>festivales (COMMON)</td>\n    </tr>\n    <tr>\n      <th>5</th>\n      <td>Vans Warped Tour</td>\n      <td>EVENT</td>\n      <td>4.8%</td>\n      <td>/m/017bc3</td>\n      <td>https://en.wikipedia.org/wiki/Warped_Tour</td>\n      <td></td>\n      <td>Vans Warped Tour (PROPER)</td>\n    </tr>\n    <tr>\n      <th>6</th>\n      <td>una</td>\n      <td>NUMBER</td>\n      <td>0.0%</td>\n      <td></td>\n      <td></td>\n      <td></td>\n      <td>una (TYPE_UNKNOWN)</td>\n    </tr>\n  </tbody>\n</table>\n</div>"
     },
     "execution_count": 11,
     "metadata": {},
     "output_type": "execute_result"
    }
   ],
   "source": [
    "texto = \"The Story So Far es una banda de pop-punk liderada por Parker Cannon. Han participado en festivales importantes como el Vans Warped Tour.\"\n",
    "\n",
    "respuesta = analizar_entidades_texto(texto)\n",
    "df_entidades = mostrar_entidades_texto_completo(respuesta)\n",
    "df_entidades"
   ],
   "metadata": {
    "collapsed": false,
    "ExecuteTime": {
     "end_time": "2025-07-14T04:23:31.148124Z",
     "start_time": "2025-07-14T04:23:30.337996Z"
    }
   },
   "id": "f98bb60982d2aead",
   "execution_count": 11
  },
  {
   "cell_type": "markdown",
   "source": [
    "## 4. Clasificación de Contenido\n"
   ],
   "metadata": {
    "collapsed": false
   },
   "id": "1609be40f3707f93"
  },
  {
   "cell_type": "code",
   "outputs": [],
   "source": [
    "from google.cloud import language_v1 as language\n",
    "from google.cloud import translate_v2 as translate\n",
    "import pandas as pd\n",
    "\n",
    "def traducir_texto(texto: str, idioma_destino: str = \"en\") -> str:\n",
    "    cliente_traductor = translate.Client()\n",
    "    resultado = cliente_traductor.translate(texto, target_language=idioma_destino)\n",
    "    return resultado[\"translatedText\"]\n",
    "\n",
    "def clasificar_texto(texto: str) -> language.ClassifyTextResponse:\n",
    "    cliente = language.LanguageServiceClient()\n",
    "    documento = language.Document(\n",
    "        content=texto,\n",
    "        type_=language.Document.Type.PLAIN_TEXT,\n",
    "        language=\"en\"  # Clasificación solo soporta inglés\n",
    "    )\n",
    "    return cliente.classify_text(document=documento)\n",
    "\n",
    "def mostrar_clasificacion_texto(respuesta: language.ClassifyTextResponse) -> pd.DataFrame:\n",
    "    datos = [{\n",
    "        \"categoría\": categoria.name,\n",
    "        \"confianza\": categoria.confidence\n",
    "    } for categoria in respuesta.categories]\n",
    "\n",
    "    df = pd.DataFrame(datos)\n",
    "    if not df.empty:\n",
    "        df[\"confianza\"] = df[\"confianza\"].apply(lambda x: f\"{x:.0%}\")\n",
    "    return df"
   ],
   "metadata": {
    "collapsed": false,
    "ExecuteTime": {
     "end_time": "2025-07-14T04:23:31.279728Z",
     "start_time": "2025-07-14T04:23:31.152674Z"
    }
   },
   "id": "43711b55f680f9fd",
   "execution_count": 12
  },
  {
   "cell_type": "code",
   "outputs": [
    {
     "data": {
      "text/plain": "                                       categoría confianza\n0  /Computers & Electronics/Consumer Electronics       95%\n1                            /Internet & Telecom       51%",
      "text/html": "<div>\n<style scoped>\n    .dataframe tbody tr th:only-of-type {\n        vertical-align: middle;\n    }\n\n    .dataframe tbody tr th {\n        vertical-align: top;\n    }\n\n    .dataframe thead th {\n        text-align: right;\n    }\n</style>\n<table border=\"1\" class=\"dataframe\">\n  <thead>\n    <tr style=\"text-align: right;\">\n      <th></th>\n      <th>categoría</th>\n      <th>confianza</th>\n    </tr>\n  </thead>\n  <tbody>\n    <tr>\n      <th>0</th>\n      <td>/Computers &amp; Electronics/Consumer Electronics</td>\n      <td>95%</td>\n    </tr>\n    <tr>\n      <th>1</th>\n      <td>/Internet &amp; Telecom</td>\n      <td>51%</td>\n    </tr>\n  </tbody>\n</table>\n</div>"
     },
     "execution_count": 13,
     "metadata": {},
     "output_type": "execute_result"
    }
   ],
   "source": [
    "texto = \"Oppo Reno ha lanzado su nueva línea de telefónos que te volará la cabeza con sus nuevas modalidades de inteligencia artificial.\"\n",
    "\n",
    "respuesta = clasificar_texto(texto)\n",
    "df_clasificacion = mostrar_clasificacion_texto(respuesta)\n",
    "df_clasificacion"
   ],
   "metadata": {
    "collapsed": false,
    "ExecuteTime": {
     "end_time": "2025-07-14T04:23:31.998951Z",
     "start_time": "2025-07-14T04:23:31.280485Z"
    }
   },
   "id": "88c0e6cd99ac91e8",
   "execution_count": 13
  },
  {
   "cell_type": "markdown",
   "source": [
    "## 4. Moderación de Textos \n",
    "la moderación de texto detecta una amplia variedad de contenidos dañinos, incluyendo discursos de odio, acoso y hostigamiento sexual. Este análisis se realiza mediante el método moderate_text, que devuelve una respuesta del tipo ModerateTextResponse."
   ],
   "metadata": {
    "collapsed": false
   },
   "id": "1e64086eb9ceccbd"
  },
  {
   "cell_type": "code",
   "outputs": [],
   "source": [
    "def moderar_texto(texto: str) -> language.ModerateTextResponse:\n",
    "    cliente = language.LanguageServiceClient()\n",
    "    documento = language.Document(\n",
    "        content=texto,\n",
    "        type_=language.Document.Type.PLAIN_TEXT,\n",
    "    )\n",
    "    return cliente.moderate_text(document=documento)\n",
    "\n",
    "def mostrar_moderacion_texto(respuesta: language.ModerateTextResponse) -> pd.DataFrame:\n",
    "    categorias = respuesta.moderation_categories\n",
    "\n",
    "    # Ordenar por confianza descendente\n",
    "    categorias_ordenadas = sorted(categorias, key=lambda c: c.confidence, reverse=True)\n",
    "\n",
    "    datos = [{\n",
    "        \"categoría\": categoria.name,\n",
    "        \"confianza\": categoria.confidence\n",
    "    } for categoria in categorias_ordenadas]\n",
    "\n",
    "    df = pd.DataFrame(datos)\n",
    "    if not df.empty:\n",
    "        df[\"confianza\"] = df[\"confianza\"].apply(lambda x: f\"{x:.0%}\")\n",
    "    return df"
   ],
   "metadata": {
    "collapsed": false,
    "ExecuteTime": {
     "end_time": "2025-07-14T04:23:32.002837Z",
     "start_time": "2025-07-14T04:23:31.999682Z"
    }
   },
   "id": "be56de9d9fc832c6",
   "execution_count": 14
  },
  {
   "cell_type": "code",
   "outputs": [
    {
     "data": {
      "text/plain": "                categoría confianza\n0                 Violent       84%\n1                   Toxic       72%\n2           Illicit Drugs       70%\n3              Derogatory       54%\n4                  Insult       44%\n5      Firearms & Weapons       43%\n6       Religion & Belief       35%\n7               Profanity       29%\n8          War & Conflict       21%\n9   Death, Harm & Tragedy       19%\n10                  Legal       18%\n11                Finance       10%\n12          Public Safety       10%\n13                 Health       10%\n14               Politics        9%\n15                 Sexual        2%",
      "text/html": "<div>\n<style scoped>\n    .dataframe tbody tr th:only-of-type {\n        vertical-align: middle;\n    }\n\n    .dataframe tbody tr th {\n        vertical-align: top;\n    }\n\n    .dataframe thead th {\n        text-align: right;\n    }\n</style>\n<table border=\"1\" class=\"dataframe\">\n  <thead>\n    <tr style=\"text-align: right;\">\n      <th></th>\n      <th>categoría</th>\n      <th>confianza</th>\n    </tr>\n  </thead>\n  <tbody>\n    <tr>\n      <th>0</th>\n      <td>Violent</td>\n      <td>84%</td>\n    </tr>\n    <tr>\n      <th>1</th>\n      <td>Toxic</td>\n      <td>72%</td>\n    </tr>\n    <tr>\n      <th>2</th>\n      <td>Illicit Drugs</td>\n      <td>70%</td>\n    </tr>\n    <tr>\n      <th>3</th>\n      <td>Derogatory</td>\n      <td>54%</td>\n    </tr>\n    <tr>\n      <th>4</th>\n      <td>Insult</td>\n      <td>44%</td>\n    </tr>\n    <tr>\n      <th>5</th>\n      <td>Firearms &amp; Weapons</td>\n      <td>43%</td>\n    </tr>\n    <tr>\n      <th>6</th>\n      <td>Religion &amp; Belief</td>\n      <td>35%</td>\n    </tr>\n    <tr>\n      <th>7</th>\n      <td>Profanity</td>\n      <td>29%</td>\n    </tr>\n    <tr>\n      <th>8</th>\n      <td>War &amp; Conflict</td>\n      <td>21%</td>\n    </tr>\n    <tr>\n      <th>9</th>\n      <td>Death, Harm &amp; Tragedy</td>\n      <td>19%</td>\n    </tr>\n    <tr>\n      <th>10</th>\n      <td>Legal</td>\n      <td>18%</td>\n    </tr>\n    <tr>\n      <th>11</th>\n      <td>Finance</td>\n      <td>10%</td>\n    </tr>\n    <tr>\n      <th>12</th>\n      <td>Public Safety</td>\n      <td>10%</td>\n    </tr>\n    <tr>\n      <th>13</th>\n      <td>Health</td>\n      <td>10%</td>\n    </tr>\n    <tr>\n      <th>14</th>\n      <td>Politics</td>\n      <td>9%</td>\n    </tr>\n    <tr>\n      <th>15</th>\n      <td>Sexual</td>\n      <td>2%</td>\n    </tr>\n  </tbody>\n</table>\n</div>"
     },
     "execution_count": 15,
     "metadata": {},
     "output_type": "execute_result"
    }
   ],
   "source": [
    "texto = (\"Hola, los odio a todos.\")\n",
    "\n",
    "respuesta_moderacion = moderar_texto(texto)\n",
    "df_moderacion = mostrar_moderacion_texto(respuesta_moderacion)\n",
    "df_moderacion"
   ],
   "metadata": {
    "collapsed": false,
    "ExecuteTime": {
     "end_time": "2025-07-14T04:23:32.433421Z",
     "start_time": "2025-07-14T04:23:32.003585Z"
    }
   },
   "id": "6528038aa30b34a3",
   "execution_count": 15
  },
  {
   "cell_type": "code",
   "outputs": [],
   "source": [],
   "metadata": {
    "collapsed": false,
    "ExecuteTime": {
     "end_time": "2025-07-14T04:23:32.436112Z",
     "start_time": "2025-07-14T04:23:32.434005Z"
    }
   },
   "id": "55d5396253e225bc",
   "execution_count": 15
  }
 ],
 "metadata": {
  "kernelspec": {
   "display_name": "Python 3",
   "language": "python",
   "name": "python3"
  },
  "language_info": {
   "codemirror_mode": {
    "name": "ipython",
    "version": 2
   },
   "file_extension": ".py",
   "mimetype": "text/x-python",
   "name": "python",
   "nbconvert_exporter": "python",
   "pygments_lexer": "ipython2",
   "version": "2.7.6"
  }
 },
 "nbformat": 4,
 "nbformat_minor": 5
}
